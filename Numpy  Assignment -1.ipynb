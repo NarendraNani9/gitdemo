{
 "cells": [
  {
   "cell_type": "markdown",
   "id": "77998088",
   "metadata": {},
   "source": [
    "import numpy as np"
   ]
  },
  {
   "cell_type": "markdown",
   "id": "d83552a6",
   "metadata": {},
   "source": [
    "##### 1 . How to concatenate two numpy arrays column-wise and row-wise?"
   ]
  },
  {
   "cell_type": "code",
   "execution_count": 2,
   "id": "b1589bf9",
   "metadata": {},
   "outputs": [
    {
     "data": {
      "text/plain": [
       "array([[1, 2],\n",
       "       [3, 4],\n",
       "       [5, 6]])"
      ]
     },
     "execution_count": 2,
     "metadata": {},
     "output_type": "execute_result"
    }
   ],
   "source": [
    "a = np.array([[1, 2], [3, 4]])\n",
    "b = np.array([[5, 6]])\n",
    "np.concatenate((a, b), axis=0)"
   ]
  },
  {
   "cell_type": "code",
   "execution_count": 3,
   "id": "cfddfab0",
   "metadata": {},
   "outputs": [
    {
     "data": {
      "text/plain": [
       "array([[1, 2, 5],\n",
       "       [3, 4, 6]])"
      ]
     },
     "execution_count": 3,
     "metadata": {},
     "output_type": "execute_result"
    }
   ],
   "source": [
    "np.concatenate((a, b.T), axis=1)"
   ]
  },
  {
   "cell_type": "code",
   "execution_count": 4,
   "id": "66586a79",
   "metadata": {},
   "outputs": [
    {
     "data": {
      "text/plain": [
       "array([1, 2, 3, 4, 5, 6])"
      ]
     },
     "execution_count": 4,
     "metadata": {},
     "output_type": "execute_result"
    }
   ],
   "source": [
    "np.concatenate((a, b), axis=None)"
   ]
  },
  {
   "cell_type": "markdown",
   "id": "b88fe0db",
   "metadata": {},
   "source": [
    "#### 2 . Consider the random number generation functions in NumPy generate a set of random numbers using the function rand."
   ]
  },
  {
   "cell_type": "code",
   "execution_count": 5,
   "id": "714826f5",
   "metadata": {},
   "outputs": [
    {
     "data": {
      "text/plain": [
       "0.35779957933710393"
      ]
     },
     "execution_count": 5,
     "metadata": {},
     "output_type": "execute_result"
    }
   ],
   "source": [
    "rng = np.random.default_rng()\n",
    "rng.random()"
   ]
  },
  {
   "cell_type": "code",
   "execution_count": 6,
   "id": "4707fdef",
   "metadata": {},
   "outputs": [
    {
     "data": {
      "text/plain": [
       "array([[[0.92494082],\n",
       "        [0.32961071],\n",
       "        [0.84307263],\n",
       "        [0.75959893]],\n",
       "\n",
       "       [[0.16348691],\n",
       "        [0.55940434],\n",
       "        [0.17439069],\n",
       "        [0.20866673]],\n",
       "\n",
       "       [[0.52033692],\n",
       "        [0.95284468],\n",
       "        [0.2521867 ],\n",
       "        [0.02237664]]])"
      ]
     },
     "execution_count": 6,
     "metadata": {},
     "output_type": "execute_result"
    }
   ],
   "source": [
    "np.random.rand(3, 4, 1)"
   ]
  },
  {
   "cell_type": "markdown",
   "id": "c65b43a7",
   "metadata": {},
   "source": [
    "#### 3 . Create a 3D array of shape 5x3x2 to contain random decimal numbers between 5 and 10.\n"
   ]
  },
  {
   "cell_type": "code",
   "execution_count": 8,
   "id": "08b382b3",
   "metadata": {},
   "outputs": [],
   "source": [
    "arr = np.arange(9).reshape(3,3)"
   ]
  },
  {
   "cell_type": "code",
   "execution_count": 9,
   "id": "92220141",
   "metadata": {},
   "outputs": [
    {
     "data": {
      "text/plain": [
       "array([[[7.71611899, 8.16975953],\n",
       "        [6.55797659, 9.46159442],\n",
       "        [9.08814713, 7.29694769]],\n",
       "\n",
       "       [[6.58583049, 8.02969277],\n",
       "        [7.96499667, 9.0921682 ],\n",
       "        [5.64762292, 9.00569274]],\n",
       "\n",
       "       [[9.92316989, 9.20578827],\n",
       "        [9.05600791, 9.90931316],\n",
       "        [8.69686522, 8.92644383]],\n",
       "\n",
       "       [[6.90643043, 5.8932576 ],\n",
       "        [5.32821071, 8.05325039],\n",
       "        [7.48841829, 8.58962651]],\n",
       "\n",
       "       [[5.27827668, 8.54118963],\n",
       "        [8.81093002, 8.17259179],\n",
       "        [6.02355115, 6.91226345]]])"
      ]
     },
     "execution_count": 9,
     "metadata": {},
     "output_type": "execute_result"
    }
   ],
   "source": [
    "np.random.rand(5, 3, 2) * 5 + 5 "
   ]
  },
  {
   "cell_type": "markdown",
   "id": "dd649ce2",
   "metadata": {},
   "source": [
    "#### 4 . Create a utility function to generate random arrays using def random_array() takes number of elements as one of the argument, and randint() from random library. "
   ]
  },
  {
   "cell_type": "code",
   "execution_count": 11,
   "id": "506e6613",
   "metadata": {},
   "outputs": [],
   "source": [
    "import random"
   ]
  },
  {
   "cell_type": "code",
   "execution_count": 12,
   "id": "6c568476",
   "metadata": {},
   "outputs": [],
   "source": [
    "res = [random.randrange(1, 50, 1) for i in range(7)]"
   ]
  },
  {
   "cell_type": "code",
   "execution_count": 13,
   "id": "cc64d437",
   "metadata": {},
   "outputs": [
    {
     "name": "stdout",
     "output_type": "stream",
     "text": [
      "Random number list is : [14, 19, 17, 27, 41, 44, 38]\n"
     ]
    }
   ],
   "source": [
    "print (\"Random number list is : \" +  str(res))"
   ]
  },
  {
   "cell_type": "code",
   "execution_count": null,
   "id": "f27b1ffe",
   "metadata": {},
   "outputs": [],
   "source": []
  },
  {
   "cell_type": "markdown",
   "id": "ae427ec0",
   "metadata": {},
   "source": [
    "####  5 .Create and Compute median using both Naive method using python only and Numpy function np.median()\n"
   ]
  },
  {
   "cell_type": "code",
   "execution_count": 18,
   "id": "b3e3777c",
   "metadata": {},
   "outputs": [],
   "source": [
    "arr = [20, 2, 7, 1, 34]"
   ]
  },
  {
   "cell_type": "code",
   "execution_count": 22,
   "id": "ebbfe20c",
   "metadata": {},
   "outputs": [
    {
     "name": "stdout",
     "output_type": "stream",
     "text": [
      "arr :  [20, 2, 7, 1, 34]\n",
      "median of arr :  7.0\n"
     ]
    }
   ],
   "source": [
    "print(\"arr : \", arr)\n",
    "print(\"median of arr : \", np.median(arr))"
   ]
  },
  {
   "cell_type": "markdown",
   "id": "d06f810c",
   "metadata": {},
   "source": [
    "#### 6 .Create naive function to compute variance function, mean function using only python.\n"
   ]
  },
  {
   "cell_type": "code",
   "execution_count": 29,
   "id": "7bedfeb3",
   "metadata": {},
   "outputs": [],
   "source": [
    "import statistics"
   ]
  },
  {
   "cell_type": "code",
   "execution_count": 30,
   "id": "d552c7cc",
   "metadata": {},
   "outputs": [],
   "source": [
    "sample = [2.74, 1.23, 2.63, 2.22, 3, 1.98]"
   ]
  },
  {
   "cell_type": "code",
   "execution_count": 31,
   "id": "0a35b99f",
   "metadata": {},
   "outputs": [
    {
     "name": "stdout",
     "output_type": "stream",
     "text": [
      "Variance of sample set is 0.40924\n"
     ]
    }
   ],
   "source": [
    "print(\"Variance of sample set is % s\"\n",
    "      %(statistics.variance(sample)))"
   ]
  },
  {
   "cell_type": "code",
   "execution_count": 32,
   "id": "b2198fef",
   "metadata": {},
   "outputs": [
    {
     "name": "stdout",
     "output_type": "stream",
     "text": [
      "Mean is : 2.3\n"
     ]
    }
   ],
   "source": [
    "x = statistics.mean(sample) \n",
    "print(\"Mean is :\", x)"
   ]
  },
  {
   "cell_type": "markdown",
   "id": "a7cacf34",
   "metadata": {},
   "source": [
    "#### 7 . Convert a 1D array to a 2D array with 2 rows."
   ]
  },
  {
   "cell_type": "code",
   "execution_count": 33,
   "id": "034e811d",
   "metadata": {},
   "outputs": [],
   "source": [
    "arr = np.array([ 0, 1, 2, 3, 4, 5, 6, 7, 8, 9])"
   ]
  },
  {
   "cell_type": "code",
   "execution_count": 34,
   "id": "0537cd17",
   "metadata": {},
   "outputs": [],
   "source": [
    "arr_2d = np.reshape(arr, (2, 5))"
   ]
  },
  {
   "cell_type": "code",
   "execution_count": 35,
   "id": "d18ec358",
   "metadata": {},
   "outputs": [
    {
     "name": "stdout",
     "output_type": "stream",
     "text": [
      "[[0 1 2 3 4]\n",
      " [5 6 7 8 9]]\n"
     ]
    }
   ],
   "source": [
    "print(arr_2d)"
   ]
  },
  {
   "cell_type": "markdown",
   "id": "febcb9fa",
   "metadata": {},
   "source": [
    "#### 8 . How to stack two arrays vertically? Stack arrays A and B vertically?"
   ]
  },
  {
   "cell_type": "code",
   "execution_count": 36,
   "id": "86af210b",
   "metadata": {},
   "outputs": [],
   "source": [
    "a = np.array([[1], [2], [3]])\n",
    "b = np.array([[4], [5], [6]])"
   ]
  },
  {
   "cell_type": "code",
   "execution_count": 37,
   "id": "83470b18",
   "metadata": {},
   "outputs": [
    {
     "data": {
      "text/plain": [
       "array([[1],\n",
       "       [2],\n",
       "       [3],\n",
       "       [4],\n",
       "       [5],\n",
       "       [6]])"
      ]
     },
     "execution_count": 37,
     "metadata": {},
     "output_type": "execute_result"
    }
   ],
   "source": [
    "np.vstack((a,b))"
   ]
  },
  {
   "cell_type": "markdown",
   "id": "d91ed81b",
   "metadata": {},
   "source": [
    "#### 9 . Create a function using numpy to get the common items between two python numpy arrays?"
   ]
  },
  {
   "cell_type": "code",
   "execution_count": 40,
   "id": "43183d74",
   "metadata": {},
   "outputs": [],
   "source": [
    "ar1 = np.array([0, 1, 2, 3, 4, 8, 10])\n",
    "ar2 = [1, 3, 4, 6, 8, 9]"
   ]
  },
  {
   "cell_type": "code",
   "execution_count": 41,
   "id": "55861d6b",
   "metadata": {},
   "outputs": [
    {
     "name": "stdout",
     "output_type": "stream",
     "text": [
      "[1 3 4 8]\n"
     ]
    }
   ],
   "source": [
    "print(np.intersect1d(ar1, ar2))"
   ]
  },
  {
   "cell_type": "markdown",
   "id": "c880c87d",
   "metadata": {},
   "source": [
    "#### 10 . Create a python function to get the positions where elements of two arrays match using Numpy function?"
   ]
  },
  {
   "cell_type": "code",
   "execution_count": 46,
   "id": "fdd7c37e",
   "metadata": {},
   "outputs": [],
   "source": [
    "import numpy as np "
   ]
  },
  {
   "cell_type": "code",
   "execution_count": 50,
   "id": "ae639a82",
   "metadata": {},
   "outputs": [
    {
     "name": "stdout",
     "output_type": "stream",
     "text": [
      "A [0 1 2 3 4 5 6]\n",
      "B [6 5 4 3 2 1 6]\n"
     ]
    }
   ],
   "source": [
    "a = np.array([0, 1, 2, 3, 4, 5, 6])\n",
    "b = np.array([6, 5, 4, 3, 2, 1, 6])\n",
    "print(\"A\",a)\n",
    "print(\"B\",b)"
   ]
  },
  {
   "cell_type": "code",
   "execution_count": 51,
   "id": "824598ec",
   "metadata": {},
   "outputs": [
    {
     "name": "stdout",
     "output_type": "stream",
     "text": [
      "Common values between two arrays:\n",
      "[1 2 3 4 5 6]\n"
     ]
    }
   ],
   "source": [
    "print(\"Common values between two arrays:\")\n",
    "print(np.intersect1d(a, b))"
   ]
  },
  {
   "cell_type": "markdown",
   "id": "4c2c5fb9",
   "metadata": {},
   "source": [
    "#### 11 . How to create a 2D array containing random floats between 5 and 10?"
   ]
  },
  {
   "cell_type": "code",
   "execution_count": 2,
   "id": "bbb24767",
   "metadata": {},
   "outputs": [
    {
     "name": "stdout",
     "output_type": "stream",
     "text": [
      "[[7.54628273 7.46083819]\n",
      " [6.42028672 7.9051189 ]\n",
      " [8.85064843 9.35871997]]\n"
     ]
    }
   ],
   "source": [
    "import numpy as np \n",
    "rand_arr = np.random.uniform(5,10, size=(3,2))\n",
    "print(rand_arr)"
   ]
  },
  {
   "cell_type": "markdown",
   "id": "697a573c",
   "metadata": {},
   "source": [
    "##### 12 . Extract the text column species from the 1D iris imported using following url np.genfromtxt()\n"
   ]
  },
  {
   "cell_type": "code",
   "execution_count": 4,
   "id": "5f4a8a6d",
   "metadata": {},
   "outputs": [
    {
     "data": {
      "text/html": [
       "<div>\n",
       "<style scoped>\n",
       "    .dataframe tbody tr th:only-of-type {\n",
       "        vertical-align: middle;\n",
       "    }\n",
       "\n",
       "    .dataframe tbody tr th {\n",
       "        vertical-align: top;\n",
       "    }\n",
       "\n",
       "    .dataframe thead th {\n",
       "        text-align: right;\n",
       "    }\n",
       "</style>\n",
       "<table border=\"1\" class=\"dataframe\">\n",
       "  <thead>\n",
       "    <tr style=\"text-align: right;\">\n",
       "      <th></th>\n",
       "      <th>sepal_length</th>\n",
       "      <th>sepal_width</th>\n",
       "      <th>petal_length</th>\n",
       "      <th>petal_width</th>\n",
       "      <th>species</th>\n",
       "    </tr>\n",
       "  </thead>\n",
       "  <tbody>\n",
       "    <tr>\n",
       "      <th>0</th>\n",
       "      <td>5.1</td>\n",
       "      <td>3.5</td>\n",
       "      <td>1.4</td>\n",
       "      <td>0.2</td>\n",
       "      <td>setosa</td>\n",
       "    </tr>\n",
       "    <tr>\n",
       "      <th>1</th>\n",
       "      <td>4.9</td>\n",
       "      <td>3.0</td>\n",
       "      <td>1.4</td>\n",
       "      <td>0.2</td>\n",
       "      <td>setosa</td>\n",
       "    </tr>\n",
       "    <tr>\n",
       "      <th>2</th>\n",
       "      <td>4.7</td>\n",
       "      <td>3.2</td>\n",
       "      <td>1.3</td>\n",
       "      <td>0.2</td>\n",
       "      <td>setosa</td>\n",
       "    </tr>\n",
       "    <tr>\n",
       "      <th>3</th>\n",
       "      <td>4.6</td>\n",
       "      <td>3.1</td>\n",
       "      <td>1.5</td>\n",
       "      <td>0.2</td>\n",
       "      <td>setosa</td>\n",
       "    </tr>\n",
       "    <tr>\n",
       "      <th>4</th>\n",
       "      <td>5.0</td>\n",
       "      <td>3.6</td>\n",
       "      <td>1.4</td>\n",
       "      <td>0.2</td>\n",
       "      <td>setosa</td>\n",
       "    </tr>\n",
       "    <tr>\n",
       "      <th>...</th>\n",
       "      <td>...</td>\n",
       "      <td>...</td>\n",
       "      <td>...</td>\n",
       "      <td>...</td>\n",
       "      <td>...</td>\n",
       "    </tr>\n",
       "    <tr>\n",
       "      <th>145</th>\n",
       "      <td>6.7</td>\n",
       "      <td>3.0</td>\n",
       "      <td>5.2</td>\n",
       "      <td>2.3</td>\n",
       "      <td>virginica</td>\n",
       "    </tr>\n",
       "    <tr>\n",
       "      <th>146</th>\n",
       "      <td>6.3</td>\n",
       "      <td>2.5</td>\n",
       "      <td>5.0</td>\n",
       "      <td>1.9</td>\n",
       "      <td>virginica</td>\n",
       "    </tr>\n",
       "    <tr>\n",
       "      <th>147</th>\n",
       "      <td>6.5</td>\n",
       "      <td>3.0</td>\n",
       "      <td>5.2</td>\n",
       "      <td>2.0</td>\n",
       "      <td>virginica</td>\n",
       "    </tr>\n",
       "    <tr>\n",
       "      <th>148</th>\n",
       "      <td>6.2</td>\n",
       "      <td>3.4</td>\n",
       "      <td>5.4</td>\n",
       "      <td>2.3</td>\n",
       "      <td>virginica</td>\n",
       "    </tr>\n",
       "    <tr>\n",
       "      <th>149</th>\n",
       "      <td>5.9</td>\n",
       "      <td>3.0</td>\n",
       "      <td>5.1</td>\n",
       "      <td>1.8</td>\n",
       "      <td>virginica</td>\n",
       "    </tr>\n",
       "  </tbody>\n",
       "</table>\n",
       "<p>150 rows × 5 columns</p>\n",
       "</div>"
      ],
      "text/plain": [
       "     sepal_length  sepal_width  petal_length  petal_width    species\n",
       "0             5.1          3.5           1.4          0.2     setosa\n",
       "1             4.9          3.0           1.4          0.2     setosa\n",
       "2             4.7          3.2           1.3          0.2     setosa\n",
       "3             4.6          3.1           1.5          0.2     setosa\n",
       "4             5.0          3.6           1.4          0.2     setosa\n",
       "..            ...          ...           ...          ...        ...\n",
       "145           6.7          3.0           5.2          2.3  virginica\n",
       "146           6.3          2.5           5.0          1.9  virginica\n",
       "147           6.5          3.0           5.2          2.0  virginica\n",
       "148           6.2          3.4           5.4          2.3  virginica\n",
       "149           5.9          3.0           5.1          1.8  virginica\n",
       "\n",
       "[150 rows x 5 columns]"
      ]
     },
     "metadata": {},
     "output_type": "display_data"
    }
   ],
   "source": [
    "import pandas as pd\n",
    "iris_df= pd.read_csv(\"https://raw.githubusercontent.com/ammishra08/machineLearning/master/Datasets/iris.csv\")\n",
    "display(iris_df)"
   ]
  },
  {
   "cell_type": "markdown",
   "id": "af3deafc",
   "metadata": {},
   "source": [
    "#### 13 . How to Convert the 1D iris to 2D array iris_2d by omitting the species column and dropping first row?\n"
   ]
  },
  {
   "cell_type": "code",
   "execution_count": 5,
   "id": "d4c5c9ed",
   "metadata": {},
   "outputs": [
    {
     "name": "stderr",
     "output_type": "stream",
     "text": [
      "C:\\Users\\VISWA\\AppData\\Local\\Temp/ipykernel_6564/4247560841.py:2: VisibleDeprecationWarning: Reading unicode strings without specifying the encoding argument is deprecated. Set the encoding, use None for the system default.\n",
      "  iris_1d = np.genfromtxt(url, delimiter=',', dtype=None)\n"
     ]
    }
   ],
   "source": [
    "url = 'https://raw.githubusercontent.com/ammishra08/MachineLearning/master/Datasets/iris.csv'\n",
    "iris_1d = np.genfromtxt(url, delimiter=',', dtype=None)\n"
   ]
  },
  {
   "cell_type": "code",
   "execution_count": 6,
   "id": "017038ef",
   "metadata": {},
   "outputs": [
    {
     "data": {
      "text/plain": [
       "array([[b'sepal_length', b'sepal_width', b'petal_length', b'petal_width'],\n",
       "       [b'5.1', b'3.5', b'1.4', b'0.2'],\n",
       "       [b'4.9', b'3.0', b'1.4', b'0.2'],\n",
       "       [b'4.7', b'3.2', b'1.3', b'0.2']], dtype='|S12')"
      ]
     },
     "execution_count": 6,
     "metadata": {},
     "output_type": "execute_result"
    }
   ],
   "source": [
    "iris_2d = np.array([row.tolist()[:4] for row in iris_1d])\n",
    "iris_2d[:4]"
   ]
  },
  {
   "cell_type": "code",
   "execution_count": 7,
   "id": "2650ec8e",
   "metadata": {},
   "outputs": [
    {
     "data": {
      "text/plain": [
       "array([b'species', b'setosa', b'setosa', b'setosa', b'setosa'],\n",
       "      dtype='|S10')"
      ]
     },
     "execution_count": 7,
     "metadata": {},
     "output_type": "execute_result"
    }
   ],
   "source": [
    "species = np.array([row[4] for row in iris_1d])\n",
    "species[:5]\n"
   ]
  },
  {
   "cell_type": "markdown",
   "id": "93aaa70e",
   "metadata": {},
   "source": [
    "#### 14 . How to compute the mean, median, standard deviation of a numpy array on the same iris dataset?\n"
   ]
  },
  {
   "cell_type": "code",
   "execution_count": 8,
   "id": "45e811bf",
   "metadata": {},
   "outputs": [],
   "source": [
    "iris_data = np.genfromtxt('https://raw.githubusercontent.com/ammishra08/MachineLearning/master/Datasets/iris.csv', delimiter=',', skip_header=1, usecols = [1])\n"
   ]
  },
  {
   "cell_type": "code",
   "execution_count": 9,
   "id": "4d60cb5b",
   "metadata": {},
   "outputs": [
    {
     "name": "stdout",
     "output_type": "stream",
     "text": [
      "Mean 3.0573333333333337\n",
      "Median 3.0\n",
      "Standard Deviation 0.4344109677354946\n"
     ]
    }
   ],
   "source": [
    "print('Mean', np.mean(iris_data))\n",
    "print('Median', np.median(iris_data))\n",
    "print('Standard Deviation', np.std(iris_data))"
   ]
  },
  {
   "cell_type": "markdown",
   "id": "ab5814a4",
   "metadata": {},
   "source": [
    "#### 16 . Compute and Find the number and position of missing values in iris data’s sepal length column.\n"
   ]
  },
  {
   "cell_type": "code",
   "execution_count": 10,
   "id": "c40c23f5",
   "metadata": {},
   "outputs": [],
   "source": [
    "url = ('https://raw.githubusercontent.com/ammishra08/MachineLearning/master/Datasets/iris.csv')\n"
   ]
  },
  {
   "cell_type": "code",
   "execution_count": 11,
   "id": "3f7a6052",
   "metadata": {},
   "outputs": [],
   "source": [
    "iris_2d = np.genfromtxt(url, delimiter=',', dtype='float', usecols=[0,1,2,3])\n",
    "iris_2d[np.random.randint(50, size=20), np.random.randint(4, size=20)] = np.nan\n"
   ]
  },
  {
   "cell_type": "code",
   "execution_count": 12,
   "id": "9abc2755",
   "metadata": {},
   "outputs": [
    {
     "name": "stdout",
     "output_type": "stream",
     "text": [
      "Number of missing values: \n",
      " 9\n",
      "Position of missing values: \n",
      " (array([ 0, 12, 14, 25, 28, 33, 44, 46, 47], dtype=int64),)\n"
     ]
    }
   ],
   "source": [
    "print(\"Number of missing values: \\n\", np.isnan(iris_2d[:, 0]).sum())\n",
    "print(\"Position of missing values: \\n\", np.where(np.isnan(iris_2d[:, 0])))\n"
   ]
  },
  {
   "cell_type": "markdown",
   "id": "61496917",
   "metadata": {},
   "source": [
    "#### 17 . Drop rows that contain a missing value from a numpy array created by using iris dataset? \n"
   ]
  },
  {
   "cell_type": "code",
   "execution_count": 13,
   "id": "4377d3d2",
   "metadata": {},
   "outputs": [],
   "source": [
    "url = ('https://raw.githubusercontent.com/ammishra08/MachineLearning/master/Datasets/iris.csv')\n"
   ]
  },
  {
   "cell_type": "code",
   "execution_count": 14,
   "id": "cf1d0301",
   "metadata": {},
   "outputs": [],
   "source": [
    "iris_2d = np.genfromtxt(url, delimiter=',', dtype='float', usecols=[0,1,2,3])\n",
    "iris_2d[np.random.randint(150, size=20), np.random.randint(4, size=20)] = np.nan\n"
   ]
  },
  {
   "cell_type": "code",
   "execution_count": 16,
   "id": "59a34cc8",
   "metadata": {},
   "outputs": [
    {
     "data": {
      "text/plain": [
       "array([[5.1, 3.5, 1.4, 0.2],\n",
       "       [4.7, 3.2, 1.3, 0.2],\n",
       "       [4.6, 3.1, 1.5, 0.2],\n",
       "       [5. , 3.6, 1.4, 0.2],\n",
       "       [5.4, 3.9, 1.7, 0.4]])"
      ]
     },
     "execution_count": 16,
     "metadata": {},
     "output_type": "execute_result"
    }
   ],
   "source": [
    "\n",
    "any_nan_in_row = np.array([~np.any(np.isnan(row)) for row in iris_2d])\n",
    "iris_2d[any_nan_in_row][:5]\n"
   ]
  },
  {
   "cell_type": "markdown",
   "id": "c78dd294",
   "metadata": {},
   "source": [
    "#### 18 . Sort the Admission dataset array based on TOEFL Score column and GRE Score. Use separate code for both. \n"
   ]
  },
  {
   "cell_type": "code",
   "execution_count": 10,
   "id": "464e0f06",
   "metadata": {},
   "outputs": [],
   "source": [
    "import numpy as np\n",
    "import pandas as pd"
   ]
  },
  {
   "cell_type": "code",
   "execution_count": 11,
   "id": "0004a66d",
   "metadata": {},
   "outputs": [
    {
     "data": {
      "text/html": [
       "<div>\n",
       "<style scoped>\n",
       "    .dataframe tbody tr th:only-of-type {\n",
       "        vertical-align: middle;\n",
       "    }\n",
       "\n",
       "    .dataframe tbody tr th {\n",
       "        vertical-align: top;\n",
       "    }\n",
       "\n",
       "    .dataframe thead th {\n",
       "        text-align: right;\n",
       "    }\n",
       "</style>\n",
       "<table border=\"1\" class=\"dataframe\">\n",
       "  <thead>\n",
       "    <tr style=\"text-align: right;\">\n",
       "      <th></th>\n",
       "      <th>Serial No.</th>\n",
       "      <th>GRE Score</th>\n",
       "      <th>TOEFL Score</th>\n",
       "      <th>University Rating</th>\n",
       "      <th>SOP</th>\n",
       "      <th>LOR</th>\n",
       "      <th>CGPA</th>\n",
       "      <th>Research</th>\n",
       "      <th>Chance of Admit</th>\n",
       "    </tr>\n",
       "  </thead>\n",
       "  <tbody>\n",
       "    <tr>\n",
       "      <th>0</th>\n",
       "      <td>1</td>\n",
       "      <td>337</td>\n",
       "      <td>118</td>\n",
       "      <td>4</td>\n",
       "      <td>4.5</td>\n",
       "      <td>4.5</td>\n",
       "      <td>9.65</td>\n",
       "      <td>1</td>\n",
       "      <td>0.92</td>\n",
       "    </tr>\n",
       "    <tr>\n",
       "      <th>1</th>\n",
       "      <td>2</td>\n",
       "      <td>324</td>\n",
       "      <td>107</td>\n",
       "      <td>4</td>\n",
       "      <td>4.0</td>\n",
       "      <td>4.5</td>\n",
       "      <td>8.87</td>\n",
       "      <td>1</td>\n",
       "      <td>0.76</td>\n",
       "    </tr>\n",
       "    <tr>\n",
       "      <th>2</th>\n",
       "      <td>3</td>\n",
       "      <td>316</td>\n",
       "      <td>104</td>\n",
       "      <td>3</td>\n",
       "      <td>3.0</td>\n",
       "      <td>3.5</td>\n",
       "      <td>8.00</td>\n",
       "      <td>1</td>\n",
       "      <td>0.72</td>\n",
       "    </tr>\n",
       "    <tr>\n",
       "      <th>3</th>\n",
       "      <td>4</td>\n",
       "      <td>322</td>\n",
       "      <td>110</td>\n",
       "      <td>3</td>\n",
       "      <td>3.5</td>\n",
       "      <td>2.5</td>\n",
       "      <td>8.67</td>\n",
       "      <td>1</td>\n",
       "      <td>0.80</td>\n",
       "    </tr>\n",
       "    <tr>\n",
       "      <th>4</th>\n",
       "      <td>5</td>\n",
       "      <td>314</td>\n",
       "      <td>103</td>\n",
       "      <td>2</td>\n",
       "      <td>2.0</td>\n",
       "      <td>3.0</td>\n",
       "      <td>8.21</td>\n",
       "      <td>0</td>\n",
       "      <td>0.65</td>\n",
       "    </tr>\n",
       "  </tbody>\n",
       "</table>\n",
       "</div>"
      ],
      "text/plain": [
       "   Serial No.  GRE Score  TOEFL Score  University Rating  SOP  LOR   CGPA  \\\n",
       "0           1        337          118                  4  4.5   4.5  9.65   \n",
       "1           2        324          107                  4  4.0   4.5  8.87   \n",
       "2           3        316          104                  3  3.0   3.5  8.00   \n",
       "3           4        322          110                  3  3.5   2.5  8.67   \n",
       "4           5        314          103                  2  2.0   3.0  8.21   \n",
       "\n",
       "   Research  Chance of Admit   \n",
       "0         1              0.92  \n",
       "1         1              0.76  \n",
       "2         1              0.72  \n",
       "3         1              0.80  \n",
       "4         0              0.65  "
      ]
     },
     "execution_count": 11,
     "metadata": {},
     "output_type": "execute_result"
    }
   ],
   "source": [
    "admission_df = pd.read_csv('https://raw.githubusercontent.com/ammishra08/MachineLearning/master/Datasets/Admission.csv')\n",
    "admission_df.head()"
   ]
  },
  {
   "cell_type": "code",
   "execution_count": 12,
   "id": "445fd99f",
   "metadata": {},
   "outputs": [
    {
     "data": {
      "text/plain": [
       "368     92\n",
       "28      93\n",
       "79      93\n",
       "411     94\n",
       "347     94\n",
       "      ... \n",
       "81     120\n",
       "97     120\n",
       "297    120\n",
       "143    120\n",
       "497    120\n",
       "Name: TOEFL Score, Length: 500, dtype: int64"
      ]
     },
     "execution_count": 12,
     "metadata": {},
     "output_type": "execute_result"
    }
   ],
   "source": [
    "admission_df['TOEFL Score']. sort_values()"
   ]
  },
  {
   "cell_type": "markdown",
   "id": "521f66b7",
   "metadata": {},
   "source": [
    "#### 19 . Compute the Euclidean distance between two arrays using Numpy linalg?\n"
   ]
  },
  {
   "cell_type": "code",
   "execution_count": 17,
   "id": "ba35c772",
   "metadata": {},
   "outputs": [],
   "source": [
    "a = np.array([1,2,3,4,5])\n",
    "b = np.array([4,5,6,7,8])\n"
   ]
  },
  {
   "cell_type": "code",
   "execution_count": 19,
   "id": "1e0ed8e8",
   "metadata": {},
   "outputs": [
    {
     "data": {
      "text/plain": [
       "6.708203932499369"
      ]
     },
     "execution_count": 19,
     "metadata": {},
     "output_type": "execute_result"
    }
   ],
   "source": [
    "dist = np.linalg.norm(a-b)\n",
    "dist"
   ]
  },
  {
   "cell_type": "markdown",
   "id": "d25de540",
   "metadata": {},
   "source": [
    "#### 20 . Compute and Find the duplicate entries in the given Numpy array and mark them as True. Create 1-D array \n"
   ]
  },
  {
   "cell_type": "code",
   "execution_count": 20,
   "id": "a1d66d99",
   "metadata": {},
   "outputs": [],
   "source": [
    "\n",
    "def duplicates(a):\n",
    "    uniques = np.unique(a)\n",
    "    result = []\n",
    "    for i in a:\n",
    "        if i not in uniques:\n",
    "            result.append(True)\n",
    "        else:\n",
    "            result.append(False)\n",
    "            uniques = np.delete(uniques, np.where(uniques == i))\n",
    "    return result\n"
   ]
  },
  {
   "cell_type": "code",
   "execution_count": 21,
   "id": "7bb97c86",
   "metadata": {},
   "outputs": [
    {
     "name": "stdout",
     "output_type": "stream",
     "text": [
      "Array:  [0 0 3 0 2 4 2 2 2 2]\n",
      "[False, True, False, True, False, False, True, True, True, True]\n"
     ]
    }
   ],
   "source": [
    "\n",
    "np.random.seed(100)\n",
    "a = np.random.randint(0, 5, 10)\n",
    "print('Array: ', a)\n",
    "print(duplicates(a))"
   ]
  },
  {
   "cell_type": "markdown",
   "id": "567075a4",
   "metadata": {},
   "source": [
    "#### 21 . How to replace all missing values with 0, in a numpy array using Admission.csv and iris.csv?"
   ]
  },
  {
   "cell_type": "code",
   "execution_count": 22,
   "id": "d531db2e",
   "metadata": {},
   "outputs": [],
   "source": [
    "url = ('https://raw.githubusercontent.com/ammishra08/MachineLearning/master/Datasets/iris.csv')\n"
   ]
  },
  {
   "cell_type": "code",
   "execution_count": 23,
   "id": "444d2645",
   "metadata": {},
   "outputs": [],
   "source": [
    "iris_2d = np.genfromtxt(url, delimiter=',', dtype='float', usecols=[0,1,2,3])\n",
    "iris_2d[np.random.randint(150, size=20), np.random.randint(4, size=20)] = np.nan\n"
   ]
  },
  {
   "cell_type": "code",
   "execution_count": 24,
   "id": "9ac3b644",
   "metadata": {},
   "outputs": [
    {
     "data": {
      "text/plain": [
       "array([[0. , 0. , 0. , 0. ],\n",
       "       [5.1, 3.5, 1.4, 0.2],\n",
       "       [4.9, 3. , 1.4, 0.2],\n",
       "       [4.7, 3.2, 1.3, 0.2]])"
      ]
     },
     "execution_count": 24,
     "metadata": {},
     "output_type": "execute_result"
    }
   ],
   "source": [
    "iris_2d[np.isnan(iris_2d)] = 0\n",
    "iris_2d[:4]"
   ]
  },
  {
   "cell_type": "code",
   "execution_count": null,
   "id": "6ebea7d0",
   "metadata": {},
   "outputs": [],
   "source": []
  }
 ],
 "metadata": {
  "kernelspec": {
   "display_name": "Python 3 (ipykernel)",
   "language": "python",
   "name": "python3"
  },
  "language_info": {
   "codemirror_mode": {
    "name": "ipython",
    "version": 3
   },
   "file_extension": ".py",
   "mimetype": "text/x-python",
   "name": "python",
   "nbconvert_exporter": "python",
   "pygments_lexer": "ipython3",
   "version": "3.9.7"
  }
 },
 "nbformat": 4,
 "nbformat_minor": 5
}
